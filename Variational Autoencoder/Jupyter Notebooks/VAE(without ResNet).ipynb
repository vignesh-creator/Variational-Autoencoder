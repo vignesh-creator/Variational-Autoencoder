{
 "cells": [
  {
   "cell_type": "code",
   "execution_count": 1,
   "metadata": {},
   "outputs": [],
   "source": [
    "import torch\n",
    "import torchvision\n",
    "from torchvision import transforms,datasets\n",
    "import torch.nn as nn\n",
    "import torch.nn.functional as F\n",
    "import numpy as np\n",
    "device = torch.device('cuda' if torch.cuda.is_available() else 'cpu')\n",
    "# torch.seed=41\n",
    "import matplotlib.pyplot as plt"
   ]
  },
  {
   "cell_type": "code",
   "execution_count": 2,
   "metadata": {},
   "outputs": [
    {
     "data": {
      "text/plain": [
       "(60000, 28, 28, 1)"
      ]
     },
     "execution_count": 2,
     "metadata": {},
     "output_type": "execute_result"
    }
   ],
   "source": [
    "train_set = datasets.MNIST('./data', train=True, download=False)\n",
    "test_set = datasets.MNIST('./data', train=False, download=False)\n",
    "train_img = train_set.data.numpy()\n",
    "test_img = test_set.data.numpy()\n",
    "train_img = train_img.reshape(-1, 28, 28,1)\n",
    "train_img.shape"
   ]
  },
  {
   "cell_type": "code",
   "execution_count": 3,
   "metadata": {},
   "outputs": [
    {
     "data": {
      "text/plain": [
       "torch.Size([60000, 1, 28, 28])"
      ]
     },
     "execution_count": 3,
     "metadata": {},
     "output_type": "execute_result"
    }
   ],
   "source": [
    "batch_size = 200\n",
    "train_images = torch.Tensor(train_img).view(train_img.shape[0],1,28,28).to(device)\n",
    "test_images = torch.Tensor(test_img).view(test_img.shape[0],1,28,28).to(device)\n",
    "train_images.shape"
   ]
  },
  {
   "cell_type": "code",
   "execution_count": 34,
   "metadata": {},
   "outputs": [],
   "source": [
    "class AE(nn.Module):\n",
    "    def __init__(self):\n",
    "        super().__init__()\n",
    "        self.encoder = nn.Sequential(\n",
    "                nn.Conv2d(1,8,2,2,1).to(device), #15\n",
    "                nn.ReLU(),\n",
    "                nn.Conv2d(8,16,3,2,1).to(device), #8\n",
    "                nn.ReLU(),\n",
    "                nn.Conv2d(16,32,3,1,1).to(device), #8\n",
    "                nn.ReLU(),\n",
    "                nn.Conv2d(32,64,4,2,1).to(device), #4\n",
    "                nn.ReLU(),\n",
    "                nn.Conv2d(64,128,6,2,1).to(device), #1\n",
    "                nn.ReLU()\n",
    "        )\n",
    "        self.latent_vector_encode=nn.Sequential(\n",
    "                nn.Flatten()\n",
    "        )\n",
    "        self.decoder = nn.Sequential(\n",
    "            nn.ConvTranspose2d(64,32,4,1,0).to(device), #4\n",
    "            nn.ReLU(),\n",
    "            nn.ConvTranspose2d(32,16,4,2,1).to(device), #8\n",
    "            nn.ReLU(),\n",
    "            nn.ConvTranspose2d(16,8,4,2,1).to(device), #16\n",
    "            nn.ReLU(),\n",
    "            nn.ConvTranspose2d(8,1,2,2,2).to(device), #28\n",
    "#             nn.ReLU()\n",
    "        )\n",
    "    \n",
    "    def forward(self,x):\n",
    "        x=self.encoder(x)\n",
    "        lat=self.latent_vector_encode(x)\n",
    "        mean,std=torch.chunk(lat,2,dim=1)\n",
    "        sample = mean + torch.randn_like(std)*std\n",
    "        x=sample.view(sample.shape[0],64,1,1)\n",
    "        x=self.decoder(x)\n",
    "        return x,mean,std\n",
    "AutoEncoder = AE()\n",
    "# AutoEncoder"
   ]
  },
  {
   "cell_type": "code",
   "execution_count": 35,
   "metadata": {},
   "outputs": [],
   "source": [
    "import torch.optim as optim\n",
    "optimiser = torch.optim.Adam(AutoEncoder.parameters(), lr=0.01)\n",
    "loss_list = []"
   ]
  },
  {
   "cell_type": "code",
   "execution_count": 36,
   "metadata": {},
   "outputs": [],
   "source": [
    "def variational_loss(output,X_in,mean,std):\n",
    "    loss_function = nn.MSELoss()\n",
    "    loss_by_function=loss_function(output,X_in)\n",
    "    kl_loss= -0.005*torch.sum(1+torch.log(torch.pow(std,2)+1e-10)-torch.pow(std,2)-torch.pow(mean,2))\n",
    "    total_loss=loss_by_function+kl_loss\n",
    "    return total_loss"
   ]
  },
  {
   "cell_type": "code",
   "execution_count": 45,
   "metadata": {},
   "outputs": [],
   "source": [
    "def train(X):\n",
    "    for epoch in range(0,25):\n",
    "        cost = 0\n",
    "#         batch = torch.from_numpy(np.arange(0,X.shape[0],dtype=\"int64\"))\n",
    "#If you would like to check with arange instead of randperm, then uncomment above and comment below lines respectively\n",
    "        batch=torch.randperm(X.shape[0])\n",
    "        for i in range(0, X.shape[0],batch_size):\n",
    "            output,mean,std = AutoEncoder(X[batch[i:i+batch_size]].to(device))\n",
    "            optimiser.zero_grad()\n",
    "            loss=variational_loss(output,X[batch[i:i+batch_size]],mean,std)\n",
    "            cost = cost+loss.item() \n",
    "            loss.backward()\n",
    "            optimiser.step()\n",
    "        loss_avg = cost / X.shape[0]\n",
    "        loss_list.append(loss_avg)\n",
    "        print(\"For iteration: \", epoch+1, \" the loss is :\", loss_avg)\n",
    "#         a=mean.detach().numpy()\n",
    "#         plt.scatter(a[:,0],a[:,1])\n",
    "#         break\n",
    "    return loss_list"
   ]
  },
  {
   "cell_type": "code",
   "execution_count": 46,
   "metadata": {},
   "outputs": [
    {
     "name": "stdout",
     "output_type": "stream",
     "text": [
      "For iteration:  1  the loss is : 9.68064380086263\n",
      "For iteration:  2  the loss is : 9.673133357747396\n",
      "For iteration:  3  the loss is : 9.643096697998047\n",
      "For iteration:  4  the loss is : 9.629068572998047\n",
      "For iteration:  5  the loss is : 9.607040209960937\n",
      "For iteration:  6  the loss is : 9.545873394775391\n",
      "For iteration:  7  the loss is : 9.584084383138022\n",
      "For iteration:  8  the loss is : 9.458235268147787\n",
      "For iteration:  9  the loss is : 9.51978481648763\n",
      "For iteration:  10  the loss is : 9.531730499267578\n",
      "For iteration:  11  the loss is : 9.399484143066406\n",
      "For iteration:  12  the loss is : 9.390545513916015\n",
      "For iteration:  13  the loss is : 9.33380986735026\n",
      "For iteration:  14  the loss is : 9.334656197102865\n",
      "For iteration:  15  the loss is : 9.333606553141276\n",
      "For iteration:  16  the loss is : 9.26594682820638\n",
      "For iteration:  17  the loss is : 9.245519401041667\n",
      "For iteration:  18  the loss is : 9.265669643147787\n",
      "For iteration:  19  the loss is : 9.223898026529948\n",
      "For iteration:  20  the loss is : 9.207272383626302\n",
      "For iteration:  21  the loss is : 9.247276900227865\n",
      "For iteration:  22  the loss is : 9.1174314839681\n",
      "For iteration:  23  the loss is : 9.12575323486328\n",
      "For iteration:  24  the loss is : 9.152156447347005\n",
      "For iteration:  25  the loss is : 9.070522231038412\n"
     ]
    },
    {
     "data": {
      "image/png": "[encoded data removed]",
      "text/plain": [
       "<Figure size 432x288 with 1 Axes>"
      ]
     },
     "metadata": {
      "needs_background": "light"
     },
     "output_type": "display_data"
    }
   ],
   "source": [
    "import matplotlib.pyplot as plt\n",
    "train_loss= train(train_images)\n",
    "plt.plot(loss_list)\n",
    "plt.ylabel('cost')\n",
    "plt.xlabel('epoch')\n",
    "plt.show()"
   ]
  },
  {
   "cell_type": "code",
   "execution_count": 47,
   "metadata": {},
   "outputs": [
    {
     "name": "stdout",
     "output_type": "stream",
     "text": [
      "9.013905114746093\n"
     ]
    }
   ],
   "source": [
    "def test(X):\n",
    "    with torch.no_grad():\n",
    "        cost=0\n",
    "        batch=torch.randperm(X.shape[0])\n",
    "        for i in range(0, X.shape[0],batch_size):\n",
    "            output,mean,std=AutoEncoder(X[batch[i:i+batch_size]])\n",
    "            loss=variational_loss(output,X[batch[i:i+batch_size]],mean,std)\n",
    "            cost=cost+loss.item()\n",
    "        print(cost/X.shape[0])\n",
    "test(test_images)"
   ]
  },
  {
   "cell_type": "code",
   "execution_count": 49,
   "metadata": {},
   "outputs": [
    {
     "name": "stdout",
     "output_type": "stream",
     "text": [
      "MNIST Image\n"
     ]
    },
    {
     "data": {
      "image/png": "[encoded data removed]",
      "text/plain": [
       "<Figure size 432x288 with 2 Axes>"
      ]
     },
     "metadata": {
      "needs_background": "light"
     },
     "output_type": "display_data"
    },
    {
     "name": "stdout",
     "output_type": "stream",
     "text": [
      "Image through Variational AutoEncoder\n"
     ]
    },
    {
     "data": {
      "image/png": "[encoded data removed]",
      "text/plain": [
       "<Figure size 432x288 with 2 Axes>"
      ]
     },
     "metadata": {
      "needs_background": "light"
     },
     "output_type": "display_data"
    }
   ],
   "source": [
    "print(\"MNIST Image\")\n",
    "fig, axes = plt.subplots(1,2)\n",
    "axes[0].imshow(test_img[1],cmap=\"gray\")\n",
    "axes[1].imshow(test_img[2],cmap=\"gray\")\n",
    "\n",
    "plt.show()\n",
    "\n",
    "print(\"Image through Variational AutoEncoder\")\n",
    "# print(test_images[1:45].shape)\n",
    "output=AutoEncoder(test_images[:5])\n",
    "# print(output[0])\n",
    "output_img=((output[0].to(torch.device('cpu'))).detach().numpy()).reshape(5,28,28)\n",
    "\n",
    "fig, axes = plt.subplots(1,2)\n",
    "axes[0].imshow(output_img[1],cmap=\"gray\")\n",
    "axes[1].imshow(output_img[2],cmap=\"gray\")\n",
    "plt.show()"
   ]
  },
  {
   "cell_type": "code",
   "execution_count": 33,
   "metadata": {},
   "outputs": [],
   "source": [
    "# https://medium.com/@galexik81/5-lifesaving-pytorch-functions-519d134df9b1\n",
    "#Visit the above blog to know more about torch.chunk"
   ]
  },
  {
   "cell_type": "code",
   "execution_count": null,
   "metadata": {},
   "outputs": [],
   "source": []
  }
 ],
 "metadata": {
  "kernelspec": {
   "display_name": "Python 3",
   "language": "python",
   "name": "python3"
  },
  "language_info": {
   "codemirror_mode": {
    "name": "ipython",
    "version": 3
   },
   "file_extension": ".py",
   "mimetype": "text/x-python",
   "name": "python",
   "nbconvert_exporter": "python",
   "pygments_lexer": "ipython3",
   "version": "3.8.5"
  }
 },
 "nbformat": 4,
 "nbformat_minor": 4
}
