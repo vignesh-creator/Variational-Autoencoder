{
 "cells": [
  {
   "cell_type": "code",
   "execution_count": 1,
   "metadata": {},
   "outputs": [],
   "source": [
    "import torch\n",
    "import torchvision\n",
    "from torchvision import transforms,datasets,models\n",
    "import torch.nn as nn\n",
    "import torch.nn.functional as F\n",
    "import numpy as np\n",
    "device = torch.device('cuda' if torch.cuda.is_available() else 'cpu')\n",
    "# torch.seed=41\n",
    "import matplotlib.pyplot as plt"
   ]
  },
  {
   "cell_type": "code",
   "execution_count": 2,
   "metadata": {},
   "outputs": [
    {
     "data": {
      "text/plain": [
       "'GeForce GTX 1650 with Max-Q Design'"
      ]
     },
     "execution_count": 2,
     "metadata": {},
     "output_type": "execute_result"
    }
   ],
   "source": [
    "torch.cuda.device(0)\n",
    "torch.cuda.device_count()\n",
    "torch.cuda.get_device_name(0)"
   ]
  },
  {
   "cell_type": "code",
   "execution_count": 3,
   "metadata": {},
   "outputs": [],
   "source": [
    "torch.cuda.empty_cache()"
   ]
  },
  {
   "cell_type": "code",
   "execution_count": 4,
   "metadata": {},
   "outputs": [
    {
     "data": {
      "text/plain": [
       "(60000, 28, 28, 1)"
      ]
     },
     "execution_count": 4,
     "metadata": {},
     "output_type": "execute_result"
    }
   ],
   "source": [
    "train_set = datasets.MNIST('./data', train=True, download=False)\n",
    "test_set = datasets.MNIST('./data', train=False, download=False)\n",
    "train_img = train_set.data.numpy()\n",
    "test_img = test_set.data.numpy()\n",
    "# rgb_batch = np.repeat(grayscale_batch[..., train_img], 3, -1)\n",
    "train_img = train_img.reshape(-1, 28, 28,1)\n",
    "train_img.shape"
   ]
  },
  {
   "cell_type": "code",
   "execution_count": 5,
   "metadata": {},
   "outputs": [
    {
     "data": {
      "text/plain": [
       "torch.Size([60000, 1, 28, 28])"
      ]
     },
     "execution_count": 5,
     "metadata": {},
     "output_type": "execute_result"
    }
   ],
   "source": [
    "batch_size = 400\n",
    "train_images = torch.Tensor(train_img).view(train_img.shape[0],1,28,28).to(device)\n",
    "test_images = torch.Tensor(test_img).view(test_img.shape[0],1,28,28).to(device)\n",
    "train_images.shape"
   ]
  },
  {
   "cell_type": "code",
   "execution_count": 6,
   "metadata": {
    "scrolled": true
   },
   "outputs": [],
   "source": [
    "def conv3x3(in_channels, out_channels, stride=1):\n",
    "    return nn.Conv2d(in_channels, out_channels, kernel_size=3,stride=stride, padding=1).to(device)\n",
    "def convT3x3(in_channels, out_channels, stride=1,padding=1):\n",
    "    return nn.ConvTranspose2d(in_channels, out_channels, kernel_size=3,stride=stride, padding=padding).to(device)"
   ]
  },
  {
   "cell_type": "code",
   "execution_count": 7,
   "metadata": {},
   "outputs": [
    {
     "data": {
      "text/plain": [
       "__main__.DecoderResidualBlock"
      ]
     },
     "execution_count": 7,
     "metadata": {},
     "output_type": "execute_result"
    }
   ],
   "source": [
    "class ResidualBlock(nn.Module):\n",
    "    def __init__(self, in_channels, out_channels, stride=1, downsample=None):\n",
    "        super(ResidualBlock, self).__init__()\n",
    "        self.subblock_1=nn.Sequential(\n",
    "            conv3x3(in_channels, out_channels, stride).to(device),\n",
    "            nn.BatchNorm2d(out_channels).to(device),\n",
    "            nn.ReLU()\n",
    "        )\n",
    "        self.subblock_2=nn.Sequential(\n",
    "            conv3x3(out_channels, out_channels).to(device),\n",
    "            nn.BatchNorm2d(out_channels).to(device),\n",
    "            nn.ReLU(),\n",
    "        )\n",
    "        self.downsample = downsample\n",
    "    def forward(self, x):\n",
    "        residual = x\n",
    "        x = self.subblock_1(x).to(device)\n",
    "        x = self.subblock_2(x).to(device)\n",
    "        if self.downsample:\n",
    "            residual = self.downsample(residual)\n",
    "        x += residual\n",
    "        x = F.relu(x)        \n",
    "        return x\n",
    "block=ResidualBlock\n",
    "class DecoderResidualBlock(nn.Module):\n",
    "    def __init__(self, in_channels, out_channels, stride=1,padding=1,upsample=None):\n",
    "        super(DecoderResidualBlock, self).__init__()\n",
    "        self.subblock_1=nn.Sequential(\n",
    "            convT3x3(in_channels, out_channels, stride,padding).to(device),\n",
    "            nn.BatchNorm2d(out_channels).to(device),\n",
    "            nn.ReLU()\n",
    "        )\n",
    "        self.subblock_2=nn.Sequential(\n",
    "            convT3x3(out_channels, out_channels).to(device),\n",
    "            nn.BatchNorm2d(out_channels).to(device),\n",
    "            nn.ReLU(),\n",
    "        )\n",
    "        self.upsample = upsample\n",
    "    def forward(self, x):\n",
    "        residual = x\n",
    "        x = self.subblock_1(x).to(device)\n",
    "#         print(x.shape)\n",
    "        x = self.subblock_2(x).to(device)\n",
    "#         print(x.shape)\n",
    "        if self.upsample:\n",
    "            residual = self.upsample(residual)\n",
    "#         print(\"LOL\")\n",
    "#         print(x.shape)\n",
    "#         print(residual.shape)\n",
    "        x += residual\n",
    "        x = F.relu(x)        \n",
    "        return x\n",
    "decoder_block=DecoderResidualBlock\n",
    "decoder_block"
   ]
  },
  {
   "cell_type": "code",
   "execution_count": 8,
   "metadata": {},
   "outputs": [],
   "source": [
    "# ResNet\n",
    "class ResNet(nn.Module):\n",
    "    def __init__(self,num_classes=10):\n",
    "        super(ResNet, self).__init__()\n",
    "        self.in_channels=16\n",
    "        self.in_channels_decoder=32\n",
    "        self.layer=nn.Sequential(\n",
    "            conv3x3(1, 16).to(device),\n",
    "            nn.BatchNorm2d(16).to(device),\n",
    "            nn.ReLU()\n",
    "        )\n",
    "        self.layer1 = self.make_layer(block,16,2).to(device)\n",
    "        self.layer2 = self.make_layer(block, 32,2,2).to(device)\n",
    "        self.layer3 = self.make_layer(block, 64,2,2).to(device)\n",
    "        self.max_pool = nn.MaxPool2d(7,1).to(device)\n",
    "        self.fc = nn.Flatten()\n",
    "        self.trans_layer1 = self.make_trans_layer(decoder_block,32,2).to(device)\n",
    "        self.trans_layer2 = self.make_trans_layer(decoder_block, 16,2,2).to(device)\n",
    "        self.trans_layer3 = self.make_trans_layer(decoder_block,3,2,2).to(device)\n",
    "        self.trans_layer4 = nn.ConvTranspose2d(3,1,4,2,2).to(device)\n",
    "\n",
    "    def make_layer(self, block, out_channels, blocks, stride=1):\n",
    "        downsample = None\n",
    "        if (stride != 1) or (self.in_channels != out_channels):\n",
    "            downsample = nn.Sequential(\n",
    "                conv3x3(self.in_channels, out_channels, stride=stride).to(device),\n",
    "                nn.BatchNorm2d(out_channels).to(device)\n",
    "            )\n",
    "        layers = []\n",
    "        layers.append(block(self.in_channels, out_channels, stride, downsample))\n",
    "        self.in_channels = out_channels\n",
    "        for i in range(1, blocks):\n",
    "            layers.append(block(out_channels, out_channels))\n",
    "        return nn.Sequential(*layers)\n",
    "    \n",
    "    def make_trans_layer(self, decoder_block, out_channels, blocks, stride=1,padding=0):\n",
    "        upsample = None\n",
    "        if (stride != 1) or (self.in_channels_decoder != out_channels):\n",
    "            upsample = nn.Sequential(\n",
    "                convT3x3(self.in_channels_decoder, out_channels, stride=stride,padding=padding).to(device),\n",
    "                nn.BatchNorm2d(out_channels).to(device)\n",
    "            )\n",
    "        layers_dec = []\n",
    "        layers_dec.append(decoder_block(self.in_channels_decoder, out_channels, stride,padding, upsample))\n",
    "        self.in_channels_decoder = out_channels\n",
    "        for i in range(1, blocks):\n",
    "            layers_dec.append(decoder_block(out_channels, out_channels))\n",
    "#         print(*layers_dec)\n",
    "        return nn.Sequential(*layers_dec)\n",
    "\n",
    "    def forward(self, x):\n",
    "        x=self.layer(x)\n",
    "        x = self.layer1(x)\n",
    "        x = self.layer2(x)\n",
    "        x = self.layer3(x)\n",
    "        x = self.max_pool(x)\n",
    "        latent = self.fc(x)\n",
    "        mean,std=torch.chunk(latent,2,dim=1)\n",
    "        sample = mean + torch.randn_like(std)*std\n",
    "        x=sample.view(sample.shape[0],32,1,1)\n",
    "#         print(x.shape)\n",
    "        x = self.trans_layer1(x)\n",
    "        x = self.trans_layer2(x)\n",
    "        x = self.trans_layer3(x)\n",
    "        x = self.trans_layer4(x)\n",
    "        return x,mean,std\n",
    "AutoEncoder=ResNet()"
   ]
  },
  {
   "cell_type": "code",
   "execution_count": 9,
   "metadata": {},
   "outputs": [
    {
     "name": "stdout",
     "output_type": "stream",
     "text": [
      "ResNet(\n",
      "  (layer): Sequential(\n",
      "    (0): Conv2d(1, 16, kernel_size=(3, 3), stride=(1, 1), padding=(1, 1))\n",
      "    (1): BatchNorm2d(16, eps=1e-05, momentum=0.1, affine=True, track_running_stats=True)\n",
      "    (2): ReLU()\n",
      "  )\n",
      "  (layer1): Sequential(\n",
      "    (0): ResidualBlock(\n",
      "      (subblock_1): Sequential(\n",
      "        (0): Conv2d(16, 16, kernel_size=(3, 3), stride=(1, 1), padding=(1, 1))\n",
      "        (1): BatchNorm2d(16, eps=1e-05, momentum=0.1, affine=True, track_running_stats=True)\n",
      "        (2): ReLU()\n",
      "      )\n",
      "      (subblock_2): Sequential(\n",
      "        (0): Conv2d(16, 16, kernel_size=(3, 3), stride=(1, 1), padding=(1, 1))\n",
      "        (1): BatchNorm2d(16, eps=1e-05, momentum=0.1, affine=True, track_running_stats=True)\n",
      "        (2): ReLU()\n",
      "      )\n",
      "    )\n",
      "    (1): ResidualBlock(\n",
      "      (subblock_1): Sequential(\n",
      "        (0): Conv2d(16, 16, kernel_size=(3, 3), stride=(1, 1), padding=(1, 1))\n",
      "        (1): BatchNorm2d(16, eps=1e-05, momentum=0.1, affine=True, track_running_stats=True)\n",
      "        (2): ReLU()\n",
      "      )\n",
      "      (subblock_2): Sequential(\n",
      "        (0): Conv2d(16, 16, kernel_size=(3, 3), stride=(1, 1), padding=(1, 1))\n",
      "        (1): BatchNorm2d(16, eps=1e-05, momentum=0.1, affine=True, track_running_stats=True)\n",
      "        (2): ReLU()\n",
      "      )\n",
      "    )\n",
      "  )\n",
      "  (layer2): Sequential(\n",
      "    (0): ResidualBlock(\n",
      "      (subblock_1): Sequential(\n",
      "        (0): Conv2d(16, 32, kernel_size=(3, 3), stride=(2, 2), padding=(1, 1))\n",
      "        (1): BatchNorm2d(32, eps=1e-05, momentum=0.1, affine=True, track_running_stats=True)\n",
      "        (2): ReLU()\n",
      "      )\n",
      "      (subblock_2): Sequential(\n",
      "        (0): Conv2d(32, 32, kernel_size=(3, 3), stride=(1, 1), padding=(1, 1))\n",
      "        (1): BatchNorm2d(32, eps=1e-05, momentum=0.1, affine=True, track_running_stats=True)\n",
      "        (2): ReLU()\n",
      "      )\n",
      "      (downsample): Sequential(\n",
      "        (0): Conv2d(16, 32, kernel_size=(3, 3), stride=(2, 2), padding=(1, 1))\n",
      "        (1): BatchNorm2d(32, eps=1e-05, momentum=0.1, affine=True, track_running_stats=True)\n",
      "      )\n",
      "    )\n",
      "    (1): ResidualBlock(\n",
      "      (subblock_1): Sequential(\n",
      "        (0): Conv2d(32, 32, kernel_size=(3, 3), stride=(1, 1), padding=(1, 1))\n",
      "        (1): BatchNorm2d(32, eps=1e-05, momentum=0.1, affine=True, track_running_stats=True)\n",
      "        (2): ReLU()\n",
      "      )\n",
      "      (subblock_2): Sequential(\n",
      "        (0): Conv2d(32, 32, kernel_size=(3, 3), stride=(1, 1), padding=(1, 1))\n",
      "        (1): BatchNorm2d(32, eps=1e-05, momentum=0.1, affine=True, track_running_stats=True)\n",
      "        (2): ReLU()\n",
      "      )\n",
      "    )\n",
      "  )\n",
      "  (layer3): Sequential(\n",
      "    (0): ResidualBlock(\n",
      "      (subblock_1): Sequential(\n",
      "        (0): Conv2d(32, 64, kernel_size=(3, 3), stride=(2, 2), padding=(1, 1))\n",
      "        (1): BatchNorm2d(64, eps=1e-05, momentum=0.1, affine=True, track_running_stats=True)\n",
      "        (2): ReLU()\n",
      "      )\n",
      "      (subblock_2): Sequential(\n",
      "        (0): Conv2d(64, 64, kernel_size=(3, 3), stride=(1, 1), padding=(1, 1))\n",
      "        (1): BatchNorm2d(64, eps=1e-05, momentum=0.1, affine=True, track_running_stats=True)\n",
      "        (2): ReLU()\n",
      "      )\n",
      "      (downsample): Sequential(\n",
      "        (0): Conv2d(32, 64, kernel_size=(3, 3), stride=(2, 2), padding=(1, 1))\n",
      "        (1): BatchNorm2d(64, eps=1e-05, momentum=0.1, affine=True, track_running_stats=True)\n",
      "      )\n",
      "    )\n",
      "    (1): ResidualBlock(\n",
      "      (subblock_1): Sequential(\n",
      "        (0): Conv2d(64, 64, kernel_size=(3, 3), stride=(1, 1), padding=(1, 1))\n",
      "        (1): BatchNorm2d(64, eps=1e-05, momentum=0.1, affine=True, track_running_stats=True)\n",
      "        (2): ReLU()\n",
      "      )\n",
      "      (subblock_2): Sequential(\n",
      "        (0): Conv2d(64, 64, kernel_size=(3, 3), stride=(1, 1), padding=(1, 1))\n",
      "        (1): BatchNorm2d(64, eps=1e-05, momentum=0.1, affine=True, track_running_stats=True)\n",
      "        (2): ReLU()\n",
      "      )\n",
      "    )\n",
      "  )\n",
      "  (max_pool): MaxPool2d(kernel_size=7, stride=1, padding=0, dilation=1, ceil_mode=False)\n",
      "  (fc): Flatten(start_dim=1, end_dim=-1)\n",
      "  (trans_layer1): Sequential(\n",
      "    (0): DecoderResidualBlock(\n",
      "      (subblock_1): Sequential(\n",
      "        (0): ConvTranspose2d(32, 32, kernel_size=(3, 3), stride=(1, 1))\n",
      "        (1): BatchNorm2d(32, eps=1e-05, momentum=0.1, affine=True, track_running_stats=True)\n",
      "        (2): ReLU()\n",
      "      )\n",
      "      (subblock_2): Sequential(\n",
      "        (0): ConvTranspose2d(32, 32, kernel_size=(3, 3), stride=(1, 1), padding=(1, 1))\n",
      "        (1): BatchNorm2d(32, eps=1e-05, momentum=0.1, affine=True, track_running_stats=True)\n",
      "        (2): ReLU()\n",
      "      )\n",
      "    )\n",
      "    (1): DecoderResidualBlock(\n",
      "      (subblock_1): Sequential(\n",
      "        (0): ConvTranspose2d(32, 32, kernel_size=(3, 3), stride=(1, 1), padding=(1, 1))\n",
      "        (1): BatchNorm2d(32, eps=1e-05, momentum=0.1, affine=True, track_running_stats=True)\n",
      "        (2): ReLU()\n",
      "      )\n",
      "      (subblock_2): Sequential(\n",
      "        (0): ConvTranspose2d(32, 32, kernel_size=(3, 3), stride=(1, 1), padding=(1, 1))\n",
      "        (1): BatchNorm2d(32, eps=1e-05, momentum=0.1, affine=True, track_running_stats=True)\n",
      "        (2): ReLU()\n",
      "      )\n",
      "    )\n",
      "  )\n",
      "  (trans_layer2): Sequential(\n",
      "    (0): DecoderResidualBlock(\n",
      "      (subblock_1): Sequential(\n",
      "        (0): ConvTranspose2d(32, 16, kernel_size=(3, 3), stride=(2, 2))\n",
      "        (1): BatchNorm2d(16, eps=1e-05, momentum=0.1, affine=True, track_running_stats=True)\n",
      "        (2): ReLU()\n",
      "      )\n",
      "      (subblock_2): Sequential(\n",
      "        (0): ConvTranspose2d(16, 16, kernel_size=(3, 3), stride=(1, 1), padding=(1, 1))\n",
      "        (1): BatchNorm2d(16, eps=1e-05, momentum=0.1, affine=True, track_running_stats=True)\n",
      "        (2): ReLU()\n",
      "      )\n",
      "      (upsample): Sequential(\n",
      "        (0): ConvTranspose2d(32, 16, kernel_size=(3, 3), stride=(2, 2))\n",
      "        (1): BatchNorm2d(16, eps=1e-05, momentum=0.1, affine=True, track_running_stats=True)\n",
      "      )\n",
      "    )\n",
      "    (1): DecoderResidualBlock(\n",
      "      (subblock_1): Sequential(\n",
      "        (0): ConvTranspose2d(16, 16, kernel_size=(3, 3), stride=(1, 1), padding=(1, 1))\n",
      "        (1): BatchNorm2d(16, eps=1e-05, momentum=0.1, affine=True, track_running_stats=True)\n",
      "        (2): ReLU()\n",
      "      )\n",
      "      (subblock_2): Sequential(\n",
      "        (0): ConvTranspose2d(16, 16, kernel_size=(3, 3), stride=(1, 1), padding=(1, 1))\n",
      "        (1): BatchNorm2d(16, eps=1e-05, momentum=0.1, affine=True, track_running_stats=True)\n",
      "        (2): ReLU()\n",
      "      )\n",
      "    )\n",
      "  )\n",
      "  (trans_layer3): Sequential(\n",
      "    (0): DecoderResidualBlock(\n",
      "      (subblock_1): Sequential(\n",
      "        (0): ConvTranspose2d(16, 3, kernel_size=(3, 3), stride=(2, 2))\n",
      "        (1): BatchNorm2d(3, eps=1e-05, momentum=0.1, affine=True, track_running_stats=True)\n",
      "        (2): ReLU()\n",
      "      )\n",
      "      (subblock_2): Sequential(\n",
      "        (0): ConvTranspose2d(3, 3, kernel_size=(3, 3), stride=(1, 1), padding=(1, 1))\n",
      "        (1): BatchNorm2d(3, eps=1e-05, momentum=0.1, affine=True, track_running_stats=True)\n",
      "        (2): ReLU()\n",
      "      )\n",
      "      (upsample): Sequential(\n",
      "        (0): ConvTranspose2d(16, 3, kernel_size=(3, 3), stride=(2, 2))\n",
      "        (1): BatchNorm2d(3, eps=1e-05, momentum=0.1, affine=True, track_running_stats=True)\n",
      "      )\n",
      "    )\n",
      "    (1): DecoderResidualBlock(\n",
      "      (subblock_1): Sequential(\n",
      "        (0): ConvTranspose2d(3, 3, kernel_size=(3, 3), stride=(1, 1), padding=(1, 1))\n",
      "        (1): BatchNorm2d(3, eps=1e-05, momentum=0.1, affine=True, track_running_stats=True)\n",
      "        (2): ReLU()\n",
      "      )\n",
      "      (subblock_2): Sequential(\n",
      "        (0): ConvTranspose2d(3, 3, kernel_size=(3, 3), stride=(1, 1), padding=(1, 1))\n",
      "        (1): BatchNorm2d(3, eps=1e-05, momentum=0.1, affine=True, track_running_stats=True)\n",
      "        (2): ReLU()\n",
      "      )\n",
      "    )\n",
      "  )\n",
      "  (trans_layer4): ConvTranspose2d(3, 1, kernel_size=(4, 4), stride=(2, 2), padding=(2, 2))\n",
      ")\n"
     ]
    }
   ],
   "source": [
    "print(AutoEncoder)"
   ]
  },
  {
   "cell_type": "code",
   "execution_count": 10,
   "metadata": {},
   "outputs": [],
   "source": [
    "import torch.optim as optim\n",
    "optimiser = torch.optim.Adam(AutoEncoder.parameters(), lr=0.005)\n",
    "loss_list = []"
   ]
  },
  {
   "cell_type": "code",
   "execution_count": 11,
   "metadata": {},
   "outputs": [],
   "source": [
    "def variational_loss(output,X_in,mean,std):\n",
    "    loss_function = nn.MSELoss()\n",
    "    loss_by_function=loss_function(output,X_in)\n",
    "    kl_loss= -0.00125*torch.sum(1+torch.log(torch.pow(std,2)+1e-10)-torch.pow(std,2)-torch.pow(mean,2))\n",
    "    total_loss=loss_by_function+kl_loss\n",
    "    return total_loss"
   ]
  },
  {
   "cell_type": "code",
   "execution_count": 12,
   "metadata": {},
   "outputs": [],
   "source": [
    "def train(X):\n",
    "    for epoch in range(0,10):\n",
    "        cost = 0\n",
    "#         batch = torch.from_numpy(np.arange(0,X.shape[0],dtype=\"int64\"))\n",
    "#If you would like to check with arange instead of randperm, then uncomment above and comment below lines respectively\n",
    "        batch=torch.randperm(X.shape[0]).to(device)\n",
    "        for i in range(0, X.shape[0],batch_size):\n",
    "            output,mean,std = AutoEncoder(X[batch[i:i+batch_size]].to(device))\n",
    "            optimiser.zero_grad()\n",
    "#             rev_fc=nn.ConvTranspose2d(3,1,2,1,0)\n",
    "#             X=rev_fc(X)\n",
    "            loss=variational_loss(output,X[batch[i:i+batch_size]],mean,std)\n",
    "            cost = cost+loss.item() \n",
    "            loss.backward()\n",
    "            optimiser.step()\n",
    "        loss_avg = cost / X.shape[0]\n",
    "        loss_list.append(loss_avg)\n",
    "        print(\"For iteration: \", epoch+1, \" the loss is :\", loss_avg)\n",
    "#         a=mean.detach().numpy()\n",
    "#         plt.scatter(a[:,0],a[:,1])\n",
    "#         break\n",
    "    return loss_list"
   ]
  },
  {
   "cell_type": "code",
   "execution_count": 13,
   "metadata": {},
   "outputs": [
    {
     "name": "stdout",
     "output_type": "stream",
     "text": [
      "For iteration:  1  the loss is : 12.629366955566406\n",
      "For iteration:  2  the loss is : 5.1447514567057295\n",
      "For iteration:  3  the loss is : 3.5474866923014323\n",
      "For iteration:  4  the loss is : 2.9456466532389323\n",
      "For iteration:  5  the loss is : 2.6992278778076173\n",
      "For iteration:  6  the loss is : 2.4601367584228515\n",
      "For iteration:  7  the loss is : 2.2887098520914715\n",
      "For iteration:  8  the loss is : 2.108042596435547\n",
      "For iteration:  9  the loss is : 1.9993664286295574\n",
      "For iteration:  10  the loss is : 1.9160441721598307\n"
     ]
    },
    {
     "data": {
      "image/png": "[encoded data removed]",
      "text/plain": [
       "<Figure size 432x288 with 1 Axes>"
      ]
     },
     "metadata": {
      "needs_background": "light"
     },
     "output_type": "display_data"
    }
   ],
   "source": [
    "import matplotlib.pyplot as plt\n",
    "train_loss= train(train_images)\n",
    "plt.plot(loss_list)\n",
    "plt.ylabel('cost')\n",
    "plt.xlabel('epoch')\n",
    "plt.show()"
   ]
  },
  {
   "cell_type": "code",
   "execution_count": 14,
   "metadata": {},
   "outputs": [
    {
     "name": "stdout",
     "output_type": "stream",
     "text": [
      "1.842383203125\n"
     ]
    }
   ],
   "source": [
    "def test(X):\n",
    "    with torch.no_grad():\n",
    "        cost=0\n",
    "        batch=torch.randperm(X.shape[0])\n",
    "        for i in range(0, X.shape[0],batch_size):\n",
    "            output,mean,std=AutoEncoder(X[batch[i:i+batch_size]])\n",
    "            loss=variational_loss(output,X[batch[i:i+batch_size]],mean,std)\n",
    "            cost=cost+loss.item()\n",
    "        print(cost/X.shape[0])\n",
    "test(test_images)"
   ]
  },
  {
   "cell_type": "code",
   "execution_count": 15,
   "metadata": {},
   "outputs": [],
   "source": [
    "torch.cuda.empty_cache()"
   ]
  },
  {
   "cell_type": "code",
   "execution_count": 16,
   "metadata": {},
   "outputs": [
    {
     "name": "stdout",
     "output_type": "stream",
     "text": [
      "MNIST Image\n"
     ]
    },
    {
     "data": {
      "image/png": "[encoded data removed]",
      "text/plain": [
       "<Figure size 432x288 with 2 Axes>"
      ]
     },
     "metadata": {
      "needs_background": "light"
     },
     "output_type": "display_data"
    },
    {
     "name": "stdout",
     "output_type": "stream",
     "text": [
      "Image through Variational AutoEncoder\n"
     ]
    },
    {
     "data": {
      "image/png": "[encoded data removed]",
      "text/plain": [
       "<Figure size 432x288 with 2 Axes>"
      ]
     },
     "metadata": {
      "needs_background": "light"
     },
     "output_type": "display_data"
    }
   ],
   "source": [
    "#Normal Image\n",
    "print(\"MNIST Image\")\n",
    "fig, axes = plt.subplots(1,2)\n",
    "axes[0].imshow(test_img[3],cmap=\"gray\")\n",
    "axes[1].imshow(test_img[4],cmap=\"gray\")\n",
    "\n",
    "plt.show()\n",
    "\n",
    "print(\"Image through Variational AutoEncoder\")\n",
    "# print(test_images[1:45].shape)\n",
    "output=AutoEncoder(test_images[:5])\n",
    "output_img=((output[0].to(torch.device('cpu'))).detach().numpy()).reshape(5,28,28)\n",
    "\n",
    "fig, axes = plt.subplots(1,2)\n",
    "axes[0].imshow(output_img[3],cmap=\"gray\")\n",
    "axes[1].imshow(output_img[4],cmap=\"gray\")\n",
    "plt.show()"
   ]
  },
  {
   "cell_type": "code",
   "execution_count": 17,
   "metadata": {},
   "outputs": [],
   "source": [
    "# https://medium.com/@galexik81/5-lifesaving-pytorch-functions-519d134df9b1\n",
    "#Visit the above blog to know more about torch.chunk"
   ]
  },
  {
   "cell_type": "code",
   "execution_count": null,
   "metadata": {},
   "outputs": [],
   "source": []
  }
 ],
 "metadata": {
  "kernelspec": {
   "display_name": "Python 3",
   "language": "python",
   "name": "python3"
  },
  "language_info": {
   "codemirror_mode": {
    "name": "ipython",
    "version": 3
   },
   "file_extension": ".py",
   "mimetype": "text/x-python",
   "name": "python",
   "nbconvert_exporter": "python",
   "pygments_lexer": "ipython3",
   "version": "3.8.5"
  }
 },
 "nbformat": 4,
 "nbformat_minor": 4
}
